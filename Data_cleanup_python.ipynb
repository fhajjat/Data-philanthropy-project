{
 "cells": [
  {
   "cell_type": "code",
   "execution_count": 1,
   "id": "939e6a6a-5679-4401-a3db-f82e49455527",
   "metadata": {
    "tags": []
   },
   "outputs": [],
   "source": [
    "import pandas as pd\n",
    "data_phil = pd.read_csv('Raw_Data_StudentPop_DataPhil.csv')"
   ]
  },
  {
   "cell_type": "code",
   "execution_count": 2,
   "id": "8e03b9da-c3e7-416a-a7be-7de380c6a41d",
   "metadata": {},
   "outputs": [],
   "source": [
    "############## Cleaning up the columns #####################\n",
    "\n",
    "#Dropping the first two rows because they are column descriptions\n",
    "\n",
    "data_phil.drop([0,1], axis = 0, inplace= True)\n",
    "#data_phil.head()\n",
    "\n",
    "#Dropping unnecessary columns that Qualtrics adds\n",
    "\n",
    "data_phil.drop(data_phil.loc[:, 'StartDate':'Duration (in seconds)'].columns, axis =1 , inplace= True)\n",
    "data_phil.drop(data_phil.loc[:, 'RecordedDate' : 'Intro'].columns, axis =1 , inplace= True)\n",
    "data_phil.drop(['Q11', 'Q10_3.1', 'Q10_2.1', 'Q9', 'Q8', 'Q7', 'Q7_7_TEXT', 'Q5', 'Q5_4_TEXT'], axis = 1, inplace = True)\n",
    "\n",
    "#list(data_phil.columns)"
   ]
  },
  {
   "cell_type": "code",
   "execution_count": 3,
   "id": "3cdeff89-9f86-4082-9298-1b6735efedc9",
   "metadata": {
    "tags": []
   },
   "outputs": [],
   "source": [
    "############## Renaming the columns and making sure the data type is the correct one #################\n",
    "\n",
    "#Renaming columns depending on scale from where it was taken\n",
    "data_phil.set_axis(['Finished', 'T_P_1', 'T_P_2', 'T_P_3', 'T_P_4', 'FI_1', 'FI_2', 'FI_3', 'FA_1', 'FA_2', 'FA_3', 'Atten', 'FA_4', 'PC_1', 'PC_2', 'PC_3', 'PC_4', 'WOM_1', 'WOM_2', 'WOM_3', 'DU_1', 'DU_2', 'DU_3', 'DU_4', 'EV_1', 'EV_2', 'EV_3', 'EV_4', 'C_1', 'C_2', 'C_3', 'C_4', 'Mani', 'T_N_1', 'T_N_2', 'T_N_3', 'T_N_4', 'T_N_5', 'Fam', 'CTM', 'Age', 'Condition'], axis = 'columns', inplace= True)\n",
    "\n",
    "#Converting the data from Object to Float to do calculations\n",
    "data_phil = data_phil.astype({'T_P_1' : 'float','T_P_2' : 'float', 'T_P_3' : 'float', 'T_P_4' : 'float', 'FI_1' : 'float','FI_2' : 'float', 'FI_3' : 'float', 'FA_1' : 'float', 'FA_2' : 'float','FA_3' : 'float', 'Atten' : 'float', 'FA_4' : 'float', 'PC_1' : 'float', 'PC_2' : 'float', 'PC_3' : 'float', 'PC_4' : 'float', 'WOM_1' : 'float', 'WOM_2' : 'float', 'WOM_3' : 'float', 'DU_1' : 'float', 'DU_2' : 'float', 'DU_3' : 'float', 'DU_4' : 'float', 'EV_1' : 'float', 'EV_2' : 'float', 'EV_3' : 'float', 'EV_4' : 'float', 'C_1' : 'float', 'C_2' : 'float', 'C_3' : 'float', 'C_4' : 'float', 'Mani' : 'float', 'T_N_1' : 'float', 'T_N_2' : 'float', 'T_N_3' : 'float', 'T_N_4' : 'float', 'T_N_5' : 'float', 'Fam' : 'float', 'CTM' : 'str', 'Age' : 'float'})"
   ]
  },
  {
   "cell_type": "code",
   "execution_count": 4,
   "id": "dd701e0b-3314-4ff4-9f09-e31ede9aabf1",
   "metadata": {},
   "outputs": [],
   "source": [
    "################### Recoding variables ########################\n",
    "\n",
    "#Creating two variables to establish the experiment conditions - Qualtrics downloads it as one field.\n",
    "\n",
    "data_phil.loc[data_phil['Condition'] == 'Control/Trust', \"Trust\"] = 1\n",
    "data_phil.loc[data_phil['Condition'] == 'Control/NoTrust', \"Trust\"] = 0\n",
    "data_phil.loc[data_phil['Condition'] == 'NoControl/Trust', \"Trust\"] = 1\n",
    "data_phil.loc[data_phil['Condition'] == 'NoControl/NoTrust', \"Trust\"] = 0\n",
    "data_phil.loc[data_phil['Condition'] == 'Control/Trust', \"Control\"] = 1\n",
    "data_phil.loc[data_phil['Condition'] == 'NoControl/Trust', \"Control\"] = 0\n",
    "data_phil.loc[data_phil['Condition'] == 'Control/NoTrust', \"Control\"] = 1\n",
    "data_phil.loc[data_phil['Condition'] == 'NoControl/NoTrust', \"Control\"] = 0\n",
    "\n",
    "#Creating a variable that has a value of 1 if the subjects did not fail the manipulation check, and 0 if the subjects failed the manipulation check \n",
    "\n",
    "data_phil.loc[data_phil['Mani'] == 2, \"Mani_Fail\"] = 0\n",
    "data_phil.loc[data_phil['Mani'] != 2, \"Mani_Fail\"] = 1"
   ]
  },
  {
   "cell_type": "code",
   "execution_count": 5,
   "id": "1ceb9784-a0d8-4b01-a71e-7ec2cd29e093",
   "metadata": {},
   "outputs": [
    {
     "name": "stdout",
     "output_type": "stream",
     "text": [
      "1    95\n",
      "Name: Finished, dtype: int64\n"
     ]
    },
    {
     "data": {
      "text/plain": [
       "80"
      ]
     },
     "execution_count": 5,
     "metadata": {},
     "output_type": "execute_result"
    }
   ],
   "source": [
    "################## Cleaning the data and removing the unfinished records and the subjects who failed the attention check ###########\n",
    "\n",
    "#Dropping the rows of the subjects who did not finish the survey\n",
    "\n",
    "data_phil.drop(data_phil[data_phil['Finished'] == '0'].index, inplace= True)\n",
    "\n",
    "#Checking the value count of the variable 'Finished' to see how many subjects finished the survey\n",
    "\n",
    "print (data_phil['Finished'].value_counts())\n",
    "\n",
    "#Dropping the rows of the subjects who failed the attention check. (i.e., they are straightlining). The attention check serves as a control measure that highlights those subjects that do not read the questions. \n",
    "\n",
    "data_phil.drop (data_phil[data_phil['Atten'] != 2 ].index, inplace= True)\n",
    "\n",
    "#Dropping the subjects who failed the manipulation check (i.e., do not know the company donated data)\n",
    "\n",
    "#data_phil.drop (data_phil[data_phil['Mani'] != 2].index, inplace = True)\n",
    "\n",
    "len(data_phil.index)"
   ]
  },
  {
   "cell_type": "code",
   "execution_count": 6,
   "id": "000b855e-c041-458d-8879-55e3125b37a7",
   "metadata": {
    "tags": []
   },
   "outputs": [],
   "source": [
    "#Deleting the data that has a 'Finished' value of 1 but all other values are NaN. \n",
    "\n",
    "columns= ['T_P_1', 'T_P_2', 'T_P_3', 'T_P_4', 'FI_1', 'FI_2', 'FI_3', 'FA_1', 'FA_2', 'FA_3', 'Atten', 'FA_4', 'PC_1', 'PC_2', 'PC_3', 'PC_4', 'WOM_1', 'WOM_2', 'WOM_3', 'DU_1', 'DU_2', 'DU_3', 'DU_4', 'EV_1', 'EV_2', 'EV_3', 'EV_4', 'C_1', 'C_2', 'C_3', 'C_4', 'Mani', 'T_N_1', 'T_N_2', 'T_N_3', 'T_N_4', 'T_N_5', 'Fam', 'CTM']\n",
    "\n",
    "data_phil.dropna(subset = columns, inplace= True)\n",
    "\n",
    "#resetting the index for the data frame\n",
    "\n",
    "data_phil.reset_index(inplace = True, drop= True)\n",
    "\n",
    "#Added because I forgot to include the drop arugument in the reset_index function. \n",
    "#data_phil.drop(\"index\", axis=1, inplace = True)"
   ]
  },
  {
   "cell_type": "code",
   "execution_count": 7,
   "id": "f780c160-3f9c-48b7-881d-97d596b3a0c5",
   "metadata": {},
   "outputs": [
    {
     "data": {
      "text/plain": [
       "80"
      ]
     },
     "execution_count": 7,
     "metadata": {},
     "output_type": "execute_result"
    }
   ],
   "source": [
    "#checking number of rows after cleaning up the data\n",
    "\n",
    "len(data_phil.index)"
   ]
  },
  {
   "cell_type": "code",
   "execution_count": 8,
   "id": "7e9ad91f-619b-469a-b399-5c65185e2db0",
   "metadata": {},
   "outputs": [],
   "source": [
    "#creating the variables\n",
    "\n",
    "#Creating Av_TP which is the average for the trust for the forprofits scale \n",
    "\n",
    "data_phil['Av_TP'] = data_phil[['T_P_1', 'T_P_2', 'T_P_3', 'T_P_4' ]].mean(axis = 1).round(2)\n",
    "\n",
    "#Creating Av_FI which is the average for the false information scale \n",
    "\n",
    "data_phil['Av_FI'] = data_phil[['FI_1', 'FI_2', 'FI_3' ]].mean(axis = 1).round(2)\n",
    "\n",
    "#Creating Av_FA which is the average for the Fairness scale \n",
    "\n",
    "data_phil['Av_FA'] = data_phil[['FA_1', 'FA_2', 'FA_3', 'FA_4' ]].mean(axis = 1).round(2)\n",
    "\n",
    "#Creating Av_PC which is the average for the privacy concerns scale \n",
    "\n",
    "data_phil['Av_PC'] = data_phil[['PC_1', 'PC_2', 'PC_3', 'PC_4' ]].mean(axis = 1).round(2)\n",
    "\n",
    "#Creating Av_WOM which is the average for the negative WOM scale \n",
    "\n",
    "data_phil['Av_WOM'] = data_phil[['WOM_1', 'WOM_2', 'WOM_3']].mean(axis = 1).round(2)\n",
    "\n",
    "#Creating Av_EV which is the average for the emotional violation scale \n",
    "\n",
    "data_phil['Av_EV'] = data_phil[['EV_1', 'EV_2', 'EV_3', 'EV_4' ]].mean(axis = 1).round(2)\n",
    "\n",
    "#Creating Av_DU which is the average for the Data use transparency scale \n",
    "\n",
    "data_phil['Av_DU'] = data_phil[['DU_1', 'DU_2', 'DU_3', 'DU_4' ]].mean(axis = 1).round(2)\n",
    "\n",
    "#Creating Av_C which is the average for the Data control perceptions scale \n",
    "\n",
    "data_phil['Av_C'] = data_phil[['C_1', 'C_2', 'C_3', 'C_4' ]].mean(axis = 1).round(2)\n",
    "\n",
    "#Creating Av_TN which is the average for the nonprofit trust scale \n",
    "\n",
    "data_phil['Av_TN'] = data_phil[['T_N_1', 'T_N_2', 'T_N_3', 'T_N_4' ]].mean(axis = 1).round(2)"
   ]
  },
  {
   "cell_type": "code",
   "execution_count": 9,
   "id": "c0ae2d5e-ecd5-4e21-8d44-de0628a82d25",
   "metadata": {},
   "outputs": [],
   "source": [
    "#Writing the clean data- ready for analysis- into a new CSV file\n",
    "data_phil.to_csv('clean data/data_phil_clean_103122.csv')"
   ]
  }
 ],
 "metadata": {
  "kernelspec": {
   "display_name": "Python 3 (ipykernel)",
   "language": "python",
   "name": "python3"
  },
  "language_info": {
   "codemirror_mode": {
    "name": "ipython",
    "version": 3
   },
   "file_extension": ".py",
   "mimetype": "text/x-python",
   "name": "python",
   "nbconvert_exporter": "python",
   "pygments_lexer": "ipython3",
   "version": "3.9.12"
  }
 },
 "nbformat": 4,
 "nbformat_minor": 5
}
